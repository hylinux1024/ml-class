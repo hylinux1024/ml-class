{
 "cells": [
  {
   "cell_type": "markdown",
   "id": "5680159c-cae7-43b0-ad69-5c26653682ef",
   "metadata": {},
   "source": [
    "This task is to predict whether a tweets announcing a disaster.  We will build learning models to fit the data and make predictions. The techniques we use call NLP or Natural Language Processing. There are several steps to finish the task.  \n",
    "\n",
    "- Exploratory data analysis\n",
    "- Preprocessing\n",
    "- Build learning models\n",
    "- Results and analysis\n",
    "\n",
    "\n"
   ]
  },
  {
   "cell_type": "markdown",
   "id": "cb06bf37-ddc9-4240-b391-29d6593149d5",
   "metadata": {},
   "source": [
    "Let's import library we need"
   ]
  },
  {
   "cell_type": "code",
   "execution_count": 262,
   "id": "3fd58dae-cd64-4b7e-a3b3-0bfe2ade3aae",
   "metadata": {},
   "outputs": [],
   "source": [
    "import pandas as pd\n",
    "import numpy as np\n",
    "\n",
    "from bs4 import BeautifulSoup\n",
    "import string\n",
    "\n",
    "from sklearn.model_selection import train_test_split\n",
    "import tensorflow as tf\n",
    "from tensorflow.keras.preprocessing.text import Tokenizer\n",
    "from tensorflow.keras.preprocessing.sequence import pad_sequences\n",
    "from tensorflow.keras.layers import Dense,Embedding,Dropout,MaxPooling2D,GlobalAveragePooling1D,Dropout\n",
    "from tensorflow.keras.optimizers import Adam\n",
    "from tensorflow.keras.losses import BinaryCrossentropy\n",
    "from tensorflow.keras.models import Sequential\n",
    "from tensorflow.keras.metrics import Accuracy,AUC\n",
    "\n",
    "import matplotlib.pyplot as plt\n",
    "\n"
   ]
  },
  {
   "cell_type": "markdown",
   "id": "e1838c3c-9912-4d51-a8df-c6de0860d0ea",
   "metadata": {},
   "source": [
    "## 1. Exploratory data analysis"
   ]
  },
  {
   "cell_type": "markdown",
   "id": "d67a00dc-fe5d-47a5-b43a-0a42a12d5c5c",
   "metadata": {},
   "source": [
    "Load data"
   ]
  },
  {
   "cell_type": "code",
   "execution_count": 49,
   "id": "a283cfd8-5fc0-46dc-9072-f705f32b5b62",
   "metadata": {},
   "outputs": [],
   "source": [
    "train_df = pd.read_csv('./train.csv')\n",
    "test_df = pd.read_csv('./test.csv')"
   ]
  },
  {
   "cell_type": "code",
   "execution_count": 50,
   "id": "17280ccd-cbcd-494f-b0eb-dc5b560b7687",
   "metadata": {},
   "outputs": [
    {
     "data": {
      "text/html": [
       "<div>\n",
       "<style scoped>\n",
       "    .dataframe tbody tr th:only-of-type {\n",
       "        vertical-align: middle;\n",
       "    }\n",
       "\n",
       "    .dataframe tbody tr th {\n",
       "        vertical-align: top;\n",
       "    }\n",
       "\n",
       "    .dataframe thead th {\n",
       "        text-align: right;\n",
       "    }\n",
       "</style>\n",
       "<table border=\"1\" class=\"dataframe\">\n",
       "  <thead>\n",
       "    <tr style=\"text-align: right;\">\n",
       "      <th></th>\n",
       "      <th>id</th>\n",
       "      <th>keyword</th>\n",
       "      <th>location</th>\n",
       "      <th>text</th>\n",
       "      <th>target</th>\n",
       "    </tr>\n",
       "  </thead>\n",
       "  <tbody>\n",
       "    <tr>\n",
       "      <th>0</th>\n",
       "      <td>1</td>\n",
       "      <td>NaN</td>\n",
       "      <td>NaN</td>\n",
       "      <td>Our Deeds are the Reason of this #earthquake M...</td>\n",
       "      <td>1</td>\n",
       "    </tr>\n",
       "    <tr>\n",
       "      <th>1</th>\n",
       "      <td>4</td>\n",
       "      <td>NaN</td>\n",
       "      <td>NaN</td>\n",
       "      <td>Forest fire near La Ronge Sask. Canada</td>\n",
       "      <td>1</td>\n",
       "    </tr>\n",
       "    <tr>\n",
       "      <th>2</th>\n",
       "      <td>5</td>\n",
       "      <td>NaN</td>\n",
       "      <td>NaN</td>\n",
       "      <td>All residents asked to 'shelter in place' are ...</td>\n",
       "      <td>1</td>\n",
       "    </tr>\n",
       "    <tr>\n",
       "      <th>3</th>\n",
       "      <td>6</td>\n",
       "      <td>NaN</td>\n",
       "      <td>NaN</td>\n",
       "      <td>13,000 people receive #wildfires evacuation or...</td>\n",
       "      <td>1</td>\n",
       "    </tr>\n",
       "    <tr>\n",
       "      <th>4</th>\n",
       "      <td>7</td>\n",
       "      <td>NaN</td>\n",
       "      <td>NaN</td>\n",
       "      <td>Just got sent this photo from Ruby #Alaska as ...</td>\n",
       "      <td>1</td>\n",
       "    </tr>\n",
       "  </tbody>\n",
       "</table>\n",
       "</div>"
      ],
      "text/plain": [
       "   id keyword location                                               text  \\\n",
       "0   1     NaN      NaN  Our Deeds are the Reason of this #earthquake M...   \n",
       "1   4     NaN      NaN             Forest fire near La Ronge Sask. Canada   \n",
       "2   5     NaN      NaN  All residents asked to 'shelter in place' are ...   \n",
       "3   6     NaN      NaN  13,000 people receive #wildfires evacuation or...   \n",
       "4   7     NaN      NaN  Just got sent this photo from Ruby #Alaska as ...   \n",
       "\n",
       "   target  \n",
       "0       1  \n",
       "1       1  \n",
       "2       1  \n",
       "3       1  \n",
       "4       1  "
      ]
     },
     "execution_count": 50,
     "metadata": {},
     "output_type": "execute_result"
    }
   ],
   "source": [
    "# look at the data\n",
    "train_df.head()"
   ]
  },
  {
   "cell_type": "code",
   "execution_count": 51,
   "id": "ae094e49-608f-4a31-a7b0-0fd56c7c3a82",
   "metadata": {},
   "outputs": [
    {
     "data": {
      "text/html": [
       "<div>\n",
       "<style scoped>\n",
       "    .dataframe tbody tr th:only-of-type {\n",
       "        vertical-align: middle;\n",
       "    }\n",
       "\n",
       "    .dataframe tbody tr th {\n",
       "        vertical-align: top;\n",
       "    }\n",
       "\n",
       "    .dataframe thead th {\n",
       "        text-align: right;\n",
       "    }\n",
       "</style>\n",
       "<table border=\"1\" class=\"dataframe\">\n",
       "  <thead>\n",
       "    <tr style=\"text-align: right;\">\n",
       "      <th></th>\n",
       "      <th>id</th>\n",
       "      <th>keyword</th>\n",
       "      <th>location</th>\n",
       "      <th>text</th>\n",
       "    </tr>\n",
       "  </thead>\n",
       "  <tbody>\n",
       "    <tr>\n",
       "      <th>3258</th>\n",
       "      <td>10861</td>\n",
       "      <td>NaN</td>\n",
       "      <td>NaN</td>\n",
       "      <td>EARTHQUAKE SAFETY LOS ANGELES ÛÒ SAFETY FASTE...</td>\n",
       "    </tr>\n",
       "    <tr>\n",
       "      <th>3259</th>\n",
       "      <td>10865</td>\n",
       "      <td>NaN</td>\n",
       "      <td>NaN</td>\n",
       "      <td>Storm in RI worse than last hurricane. My city...</td>\n",
       "    </tr>\n",
       "    <tr>\n",
       "      <th>3260</th>\n",
       "      <td>10868</td>\n",
       "      <td>NaN</td>\n",
       "      <td>NaN</td>\n",
       "      <td>Green Line derailment in Chicago http://t.co/U...</td>\n",
       "    </tr>\n",
       "    <tr>\n",
       "      <th>3261</th>\n",
       "      <td>10874</td>\n",
       "      <td>NaN</td>\n",
       "      <td>NaN</td>\n",
       "      <td>MEG issues Hazardous Weather Outlook (HWO) htt...</td>\n",
       "    </tr>\n",
       "    <tr>\n",
       "      <th>3262</th>\n",
       "      <td>10875</td>\n",
       "      <td>NaN</td>\n",
       "      <td>NaN</td>\n",
       "      <td>#CityofCalgary has activated its Municipal Eme...</td>\n",
       "    </tr>\n",
       "  </tbody>\n",
       "</table>\n",
       "</div>"
      ],
      "text/plain": [
       "         id keyword location  \\\n",
       "3258  10861     NaN      NaN   \n",
       "3259  10865     NaN      NaN   \n",
       "3260  10868     NaN      NaN   \n",
       "3261  10874     NaN      NaN   \n",
       "3262  10875     NaN      NaN   \n",
       "\n",
       "                                                   text  \n",
       "3258  EARTHQUAKE SAFETY LOS ANGELES ÛÒ SAFETY FASTE...  \n",
       "3259  Storm in RI worse than last hurricane. My city...  \n",
       "3260  Green Line derailment in Chicago http://t.co/U...  \n",
       "3261  MEG issues Hazardous Weather Outlook (HWO) htt...  \n",
       "3262  #CityofCalgary has activated its Municipal Eme...  "
      ]
     },
     "execution_count": 51,
     "metadata": {},
     "output_type": "execute_result"
    }
   ],
   "source": [
    "test_df.tail()"
   ]
  },
  {
   "cell_type": "code",
   "execution_count": 52,
   "id": "494acf58-f6ef-40b3-9b20-001345d2768e",
   "metadata": {},
   "outputs": [
    {
     "data": {
      "text/plain": [
       "array([1, 0])"
      ]
     },
     "execution_count": 52,
     "metadata": {},
     "output_type": "execute_result"
    }
   ],
   "source": [
    "# look at the possible values of the target,it is binary.\n",
    "train_df['target'].unique()"
   ]
  },
  {
   "cell_type": "markdown",
   "id": "4b24fab3-cce9-43aa-8267-7a0cdb9e64c1",
   "metadata": {},
   "source": [
    "There are 5 features in the train data,there are 4 in the test data, test data has no target column which we need to predict. \n",
    "We can also use function describe() or info() to see more info about the data."
   ]
  },
  {
   "cell_type": "code",
   "execution_count": 53,
   "id": "c7fb915b-3101-4e3d-ae0c-99a740e366f7",
   "metadata": {},
   "outputs": [
    {
     "data": {
      "text/html": [
       "<div>\n",
       "<style scoped>\n",
       "    .dataframe tbody tr th:only-of-type {\n",
       "        vertical-align: middle;\n",
       "    }\n",
       "\n",
       "    .dataframe tbody tr th {\n",
       "        vertical-align: top;\n",
       "    }\n",
       "\n",
       "    .dataframe thead th {\n",
       "        text-align: right;\n",
       "    }\n",
       "</style>\n",
       "<table border=\"1\" class=\"dataframe\">\n",
       "  <thead>\n",
       "    <tr style=\"text-align: right;\">\n",
       "      <th></th>\n",
       "      <th>id</th>\n",
       "      <th>target</th>\n",
       "    </tr>\n",
       "  </thead>\n",
       "  <tbody>\n",
       "    <tr>\n",
       "      <th>count</th>\n",
       "      <td>7613.000000</td>\n",
       "      <td>7613.00000</td>\n",
       "    </tr>\n",
       "    <tr>\n",
       "      <th>mean</th>\n",
       "      <td>5441.934848</td>\n",
       "      <td>0.42966</td>\n",
       "    </tr>\n",
       "    <tr>\n",
       "      <th>std</th>\n",
       "      <td>3137.116090</td>\n",
       "      <td>0.49506</td>\n",
       "    </tr>\n",
       "    <tr>\n",
       "      <th>min</th>\n",
       "      <td>1.000000</td>\n",
       "      <td>0.00000</td>\n",
       "    </tr>\n",
       "    <tr>\n",
       "      <th>25%</th>\n",
       "      <td>2734.000000</td>\n",
       "      <td>0.00000</td>\n",
       "    </tr>\n",
       "    <tr>\n",
       "      <th>50%</th>\n",
       "      <td>5408.000000</td>\n",
       "      <td>0.00000</td>\n",
       "    </tr>\n",
       "    <tr>\n",
       "      <th>75%</th>\n",
       "      <td>8146.000000</td>\n",
       "      <td>1.00000</td>\n",
       "    </tr>\n",
       "    <tr>\n",
       "      <th>max</th>\n",
       "      <td>10873.000000</td>\n",
       "      <td>1.00000</td>\n",
       "    </tr>\n",
       "  </tbody>\n",
       "</table>\n",
       "</div>"
      ],
      "text/plain": [
       "                 id      target\n",
       "count   7613.000000  7613.00000\n",
       "mean    5441.934848     0.42966\n",
       "std     3137.116090     0.49506\n",
       "min        1.000000     0.00000\n",
       "25%     2734.000000     0.00000\n",
       "50%     5408.000000     0.00000\n",
       "75%     8146.000000     1.00000\n",
       "max    10873.000000     1.00000"
      ]
     },
     "execution_count": 53,
     "metadata": {},
     "output_type": "execute_result"
    }
   ],
   "source": [
    "train_df.describe()"
   ]
  },
  {
   "cell_type": "code",
   "execution_count": 54,
   "id": "d914a6d5-b922-4eb4-9d35-a629aa200109",
   "metadata": {},
   "outputs": [
    {
     "name": "stdout",
     "output_type": "stream",
     "text": [
      "<class 'pandas.core.frame.DataFrame'>\n",
      "RangeIndex: 7613 entries, 0 to 7612\n",
      "Data columns (total 5 columns):\n",
      " #   Column    Non-Null Count  Dtype \n",
      "---  ------    --------------  ----- \n",
      " 0   id        7613 non-null   int64 \n",
      " 1   keyword   7552 non-null   object\n",
      " 2   location  5080 non-null   object\n",
      " 3   text      7613 non-null   object\n",
      " 4   target    7613 non-null   int64 \n",
      "dtypes: int64(2), object(3)\n",
      "memory usage: 297.5+ KB\n"
     ]
    }
   ],
   "source": [
    "train_df.info()"
   ]
  },
  {
   "cell_type": "markdown",
   "id": "492a1f59-168f-40cc-acaa-9e8346d93951",
   "metadata": {},
   "source": [
    "As we can see there are many NaN values in the data, we need to clean the data or choose the most valueable columns we think to learn a model. \n",
    "We think the text is most important for our predictions."
   ]
  },
  {
   "cell_type": "markdown",
   "id": "67ccaff5-5be0-4fc1-b19f-ba430886e2b6",
   "metadata": {},
   "source": [
    "## 2. Preprocessing"
   ]
  },
  {
   "cell_type": "code",
   "execution_count": 55,
   "id": "0577aadc-ec3c-4db6-a165-ff5cda550625",
   "metadata": {},
   "outputs": [
    {
     "data": {
      "text/plain": [
       "array(['Our Deeds are the Reason of this #earthquake May ALLAH Forgive us all',\n",
       "       'Forest fire near La Ronge Sask. Canada',\n",
       "       \"All residents asked to 'shelter in place' are being notified by officers. No other evacuation or shelter in place orders are expected\",\n",
       "       ...,\n",
       "       'M1.94 [01:04 UTC]?5km S of Volcano Hawaii. http://t.co/zDtoyd8EbJ',\n",
       "       'Police investigating after an e-bike collided with a car in Little Portugal. E-bike rider suffered serious non-life threatening injuries.',\n",
       "       'The Latest: More Homes Razed by Northern California Wildfire - ABC News http://t.co/YmY4rSkQ3d'],\n",
       "      dtype=object)"
      ]
     },
     "execution_count": 55,
     "metadata": {},
     "output_type": "execute_result"
    }
   ],
   "source": [
    "# select the text column\n",
    "all_train_texts = train_df['text'].to_numpy()\n",
    "all_train_texts"
   ]
  },
  {
   "cell_type": "markdown",
   "id": "1dbb7124-5565-43e1-81fa-6e48447002ed",
   "metadata": {},
   "source": [
    "We need clean the text"
   ]
  },
  {
   "cell_type": "code",
   "execution_count": 56,
   "id": "7531838e-9764-4d61-bd1b-81c020caac7a",
   "metadata": {},
   "outputs": [],
   "source": [
    "# clean the text\n",
    "stopwords = [\"a\", \"about\", \"above\", \"after\", \"again\", \"against\", \"all\", \"am\", \"an\", \"and\", \"any\", \"are\", \"as\", \"at\",\n",
    "                 \"be\", \"because\", \"been\", \"before\", \"being\", \"below\", \"between\", \"both\", \"but\", \"by\", \"could\", \"did\", \"do\",\n",
    "                 \"does\", \"doing\", \"down\", \"during\", \"each\", \"few\", \"for\", \"from\", \"further\", \"had\", \"has\", \"have\", \"having\",\n",
    "                 \"he\", \"hed\", \"hes\", \"her\", \"here\", \"heres\", \"hers\", \"herself\", \"him\", \"himself\", \"his\", \"how\",\n",
    "                 \"hows\", \"i\", \"id\", \"ill\", \"im\", \"ive\", \"if\", \"in\", \"into\", \"is\", \"it\", \"its\", \"itself\",\n",
    "                 \"lets\", \"me\", \"more\", \"most\", \"my\", \"myself\", \"nor\", \"of\", \"on\", \"once\", \"only\", \"or\", \"other\", \"ought\",\n",
    "                 \"our\", \"ours\", \"ourselves\", \"out\", \"over\", \"own\", \"same\", \"she\", \"shed\", \"shell\", \"shes\", \"should\",\n",
    "                 \"so\", \"some\", \"such\", \"than\", \"that\", \"thats\", \"the\", \"their\", \"theirs\", \"them\", \"themselves\", \"then\",\n",
    "                 \"there\", \"theres\", \"these\", \"they\", \"theyd\", \"theyll\", \"theyre\", \"theyve\", \"this\", \"those\", \"through\",\n",
    "                 \"to\", \"too\", \"under\", \"until\", \"up\", \"very\", \"was\", \"we\", \"wed\", \"well\", \"were\", \"weve\", \"were\",\n",
    "                 \"what\", \"whats\", \"when\", \"whens\", \"where\", \"wheres\", \"which\", \"while\", \"who\", \"whos\", \"whom\", \"why\",\n",
    "                 \"whys\", \"with\", \"would\", \"you\", \"youd\", \"youll\", \"youre\", \"youve\", \"your\", \"yours\", \"yourself\",\n",
    "                 \"yourselves\"]\n",
    "table = str.maketrans('','',string.punctuation)\n",
    "\n",
    "def clean_text(sentence):\n",
    "    sentence = sentence.lower()\n",
    "    soup = BeautifulSoup(sentence)\n",
    "    sentence = soup.get_text()\n",
    "    sentence = sentence.replace(',',' , ')\n",
    "    sentence = sentence.replace('-',' - ')\n",
    "    sentence = sentence.replace('.',' . ')\n",
    "    sentence = sentence.replace('/',' / ')\n",
    "    words = sentence.split()\n",
    "    filtered_sentence = ''\n",
    "    for word in words:\n",
    "        word = word.translate(table)\n",
    "        if word not in stopwords:\n",
    "            filtered_sentence = filtered_sentence + word + \" \"\n",
    "    return filtered_sentence.strip()\n",
    "        "
   ]
  },
  {
   "cell_type": "code",
   "execution_count": 112,
   "id": "7207f38d-3481-4f8d-9130-a27b45238da2",
   "metadata": {},
   "outputs": [
    {
     "data": {
      "text/html": [
       "<div>\n",
       "<style scoped>\n",
       "    .dataframe tbody tr th:only-of-type {\n",
       "        vertical-align: middle;\n",
       "    }\n",
       "\n",
       "    .dataframe tbody tr th {\n",
       "        vertical-align: top;\n",
       "    }\n",
       "\n",
       "    .dataframe thead th {\n",
       "        text-align: right;\n",
       "    }\n",
       "</style>\n",
       "<table border=\"1\" class=\"dataframe\">\n",
       "  <thead>\n",
       "    <tr style=\"text-align: right;\">\n",
       "      <th></th>\n",
       "      <th>id</th>\n",
       "      <th>keyword</th>\n",
       "      <th>location</th>\n",
       "      <th>text</th>\n",
       "      <th>target</th>\n",
       "      <th>clean_text</th>\n",
       "    </tr>\n",
       "  </thead>\n",
       "  <tbody>\n",
       "    <tr>\n",
       "      <th>0</th>\n",
       "      <td>1</td>\n",
       "      <td>NaN</td>\n",
       "      <td>NaN</td>\n",
       "      <td>Our Deeds are the Reason of this #earthquake M...</td>\n",
       "      <td>1</td>\n",
       "      <td>deeds reason earthquake may allah forgive us</td>\n",
       "    </tr>\n",
       "    <tr>\n",
       "      <th>1</th>\n",
       "      <td>4</td>\n",
       "      <td>NaN</td>\n",
       "      <td>NaN</td>\n",
       "      <td>Forest fire near La Ronge Sask. Canada</td>\n",
       "      <td>1</td>\n",
       "      <td>forest fire near la ronge sask  canada</td>\n",
       "    </tr>\n",
       "    <tr>\n",
       "      <th>2</th>\n",
       "      <td>5</td>\n",
       "      <td>NaN</td>\n",
       "      <td>NaN</td>\n",
       "      <td>All residents asked to 'shelter in place' are ...</td>\n",
       "      <td>1</td>\n",
       "      <td>residents asked shelter place notified officer...</td>\n",
       "    </tr>\n",
       "    <tr>\n",
       "      <th>3</th>\n",
       "      <td>6</td>\n",
       "      <td>NaN</td>\n",
       "      <td>NaN</td>\n",
       "      <td>13,000 people receive #wildfires evacuation or...</td>\n",
       "      <td>1</td>\n",
       "      <td>13  000 people receive wildfires evacuation or...</td>\n",
       "    </tr>\n",
       "    <tr>\n",
       "      <th>4</th>\n",
       "      <td>7</td>\n",
       "      <td>NaN</td>\n",
       "      <td>NaN</td>\n",
       "      <td>Just got sent this photo from Ruby #Alaska as ...</td>\n",
       "      <td>1</td>\n",
       "      <td>just got sent photo ruby alaska smoke wildfire...</td>\n",
       "    </tr>\n",
       "    <tr>\n",
       "      <th>...</th>\n",
       "      <td>...</td>\n",
       "      <td>...</td>\n",
       "      <td>...</td>\n",
       "      <td>...</td>\n",
       "      <td>...</td>\n",
       "      <td>...</td>\n",
       "    </tr>\n",
       "    <tr>\n",
       "      <th>7608</th>\n",
       "      <td>10869</td>\n",
       "      <td>NaN</td>\n",
       "      <td>NaN</td>\n",
       "      <td>Two giant cranes holding a bridge collapse int...</td>\n",
       "      <td>1</td>\n",
       "      <td>two giant cranes holding bridge collapse nearb...</td>\n",
       "    </tr>\n",
       "    <tr>\n",
       "      <th>7609</th>\n",
       "      <td>10870</td>\n",
       "      <td>NaN</td>\n",
       "      <td>NaN</td>\n",
       "      <td>@aria_ahrary @TheTawniest The out of control w...</td>\n",
       "      <td>1</td>\n",
       "      <td>ariaahrary thetawniest control wild fires cali...</td>\n",
       "    </tr>\n",
       "    <tr>\n",
       "      <th>7610</th>\n",
       "      <td>10871</td>\n",
       "      <td>NaN</td>\n",
       "      <td>NaN</td>\n",
       "      <td>M1.94 [01:04 UTC]?5km S of Volcano Hawaii. htt...</td>\n",
       "      <td>1</td>\n",
       "      <td>m1  94 0104 utc5km s volcano hawaii  http   t ...</td>\n",
       "    </tr>\n",
       "    <tr>\n",
       "      <th>7611</th>\n",
       "      <td>10872</td>\n",
       "      <td>NaN</td>\n",
       "      <td>NaN</td>\n",
       "      <td>Police investigating after an e-bike collided ...</td>\n",
       "      <td>1</td>\n",
       "      <td>police investigating e  bike collided car litt...</td>\n",
       "    </tr>\n",
       "    <tr>\n",
       "      <th>7612</th>\n",
       "      <td>10873</td>\n",
       "      <td>NaN</td>\n",
       "      <td>NaN</td>\n",
       "      <td>The Latest: More Homes Razed by Northern Calif...</td>\n",
       "      <td>1</td>\n",
       "      <td>latest homes razed northern california wildfir...</td>\n",
       "    </tr>\n",
       "  </tbody>\n",
       "</table>\n",
       "<p>7613 rows × 6 columns</p>\n",
       "</div>"
      ],
      "text/plain": [
       "         id keyword location  \\\n",
       "0         1     NaN      NaN   \n",
       "1         4     NaN      NaN   \n",
       "2         5     NaN      NaN   \n",
       "3         6     NaN      NaN   \n",
       "4         7     NaN      NaN   \n",
       "...     ...     ...      ...   \n",
       "7608  10869     NaN      NaN   \n",
       "7609  10870     NaN      NaN   \n",
       "7610  10871     NaN      NaN   \n",
       "7611  10872     NaN      NaN   \n",
       "7612  10873     NaN      NaN   \n",
       "\n",
       "                                                   text  target  \\\n",
       "0     Our Deeds are the Reason of this #earthquake M...       1   \n",
       "1                Forest fire near La Ronge Sask. Canada       1   \n",
       "2     All residents asked to 'shelter in place' are ...       1   \n",
       "3     13,000 people receive #wildfires evacuation or...       1   \n",
       "4     Just got sent this photo from Ruby #Alaska as ...       1   \n",
       "...                                                 ...     ...   \n",
       "7608  Two giant cranes holding a bridge collapse int...       1   \n",
       "7609  @aria_ahrary @TheTawniest The out of control w...       1   \n",
       "7610  M1.94 [01:04 UTC]?5km S of Volcano Hawaii. htt...       1   \n",
       "7611  Police investigating after an e-bike collided ...       1   \n",
       "7612  The Latest: More Homes Razed by Northern Calif...       1   \n",
       "\n",
       "                                             clean_text  \n",
       "0          deeds reason earthquake may allah forgive us  \n",
       "1                forest fire near la ronge sask  canada  \n",
       "2     residents asked shelter place notified officer...  \n",
       "3     13  000 people receive wildfires evacuation or...  \n",
       "4     just got sent photo ruby alaska smoke wildfire...  \n",
       "...                                                 ...  \n",
       "7608  two giant cranes holding bridge collapse nearb...  \n",
       "7609  ariaahrary thetawniest control wild fires cali...  \n",
       "7610  m1  94 0104 utc5km s volcano hawaii  http   t ...  \n",
       "7611  police investigating e  bike collided car litt...  \n",
       "7612  latest homes razed northern california wildfir...  \n",
       "\n",
       "[7613 rows x 6 columns]"
      ]
     },
     "execution_count": 112,
     "metadata": {},
     "output_type": "execute_result"
    }
   ],
   "source": [
    "# create a new column to store the clean text\n",
    "train_df['clean_text'] = train_df['text'].apply(clean_text)\n",
    "train_df"
   ]
  },
  {
   "cell_type": "code",
   "execution_count": 111,
   "id": "16f06ef9-81ef-41ff-ae80-29b6260f797c",
   "metadata": {},
   "outputs": [
    {
     "data": {
      "text/html": [
       "<div>\n",
       "<style scoped>\n",
       "    .dataframe tbody tr th:only-of-type {\n",
       "        vertical-align: middle;\n",
       "    }\n",
       "\n",
       "    .dataframe tbody tr th {\n",
       "        vertical-align: top;\n",
       "    }\n",
       "\n",
       "    .dataframe thead th {\n",
       "        text-align: right;\n",
       "    }\n",
       "</style>\n",
       "<table border=\"1\" class=\"dataframe\">\n",
       "  <thead>\n",
       "    <tr style=\"text-align: right;\">\n",
       "      <th></th>\n",
       "      <th>id</th>\n",
       "      <th>keyword</th>\n",
       "      <th>location</th>\n",
       "      <th>text</th>\n",
       "      <th>clean_text</th>\n",
       "    </tr>\n",
       "  </thead>\n",
       "  <tbody>\n",
       "    <tr>\n",
       "      <th>0</th>\n",
       "      <td>0</td>\n",
       "      <td>NaN</td>\n",
       "      <td>NaN</td>\n",
       "      <td>Just happened a terrible car crash</td>\n",
       "      <td>just happened terrible car crash</td>\n",
       "    </tr>\n",
       "    <tr>\n",
       "      <th>1</th>\n",
       "      <td>2</td>\n",
       "      <td>NaN</td>\n",
       "      <td>NaN</td>\n",
       "      <td>Heard about #earthquake is different cities, s...</td>\n",
       "      <td>heard earthquake different cities  stay safe e...</td>\n",
       "    </tr>\n",
       "    <tr>\n",
       "      <th>2</th>\n",
       "      <td>3</td>\n",
       "      <td>NaN</td>\n",
       "      <td>NaN</td>\n",
       "      <td>there is a forest fire at spot pond, geese are...</td>\n",
       "      <td>forest fire spot pond  geese fleeing across st...</td>\n",
       "    </tr>\n",
       "    <tr>\n",
       "      <th>3</th>\n",
       "      <td>9</td>\n",
       "      <td>NaN</td>\n",
       "      <td>NaN</td>\n",
       "      <td>Apocalypse lighting. #Spokane #wildfires</td>\n",
       "      <td>apocalypse lighting  spokane wildfires</td>\n",
       "    </tr>\n",
       "    <tr>\n",
       "      <th>4</th>\n",
       "      <td>11</td>\n",
       "      <td>NaN</td>\n",
       "      <td>NaN</td>\n",
       "      <td>Typhoon Soudelor kills 28 in China and Taiwan</td>\n",
       "      <td>typhoon soudelor kills 28 china taiwan</td>\n",
       "    </tr>\n",
       "    <tr>\n",
       "      <th>...</th>\n",
       "      <td>...</td>\n",
       "      <td>...</td>\n",
       "      <td>...</td>\n",
       "      <td>...</td>\n",
       "      <td>...</td>\n",
       "    </tr>\n",
       "    <tr>\n",
       "      <th>3258</th>\n",
       "      <td>10861</td>\n",
       "      <td>NaN</td>\n",
       "      <td>NaN</td>\n",
       "      <td>EARTHQUAKE SAFETY LOS ANGELES ÛÒ SAFETY FASTE...</td>\n",
       "      <td>earthquake safety los angeles ûò safety faste...</td>\n",
       "    </tr>\n",
       "    <tr>\n",
       "      <th>3259</th>\n",
       "      <td>10865</td>\n",
       "      <td>NaN</td>\n",
       "      <td>NaN</td>\n",
       "      <td>Storm in RI worse than last hurricane. My city...</td>\n",
       "      <td>storm ri worse last hurricane  city3others har...</td>\n",
       "    </tr>\n",
       "    <tr>\n",
       "      <th>3260</th>\n",
       "      <td>10868</td>\n",
       "      <td>NaN</td>\n",
       "      <td>NaN</td>\n",
       "      <td>Green Line derailment in Chicago http://t.co/U...</td>\n",
       "      <td>green line derailment chicago http   t  co  ut...</td>\n",
       "    </tr>\n",
       "    <tr>\n",
       "      <th>3261</th>\n",
       "      <td>10874</td>\n",
       "      <td>NaN</td>\n",
       "      <td>NaN</td>\n",
       "      <td>MEG issues Hazardous Weather Outlook (HWO) htt...</td>\n",
       "      <td>meg issues hazardous weather outlook hwo http ...</td>\n",
       "    </tr>\n",
       "    <tr>\n",
       "      <th>3262</th>\n",
       "      <td>10875</td>\n",
       "      <td>NaN</td>\n",
       "      <td>NaN</td>\n",
       "      <td>#CityofCalgary has activated its Municipal Eme...</td>\n",
       "      <td>cityofcalgary activated municipal emergency pl...</td>\n",
       "    </tr>\n",
       "  </tbody>\n",
       "</table>\n",
       "<p>3263 rows × 5 columns</p>\n",
       "</div>"
      ],
      "text/plain": [
       "         id keyword location  \\\n",
       "0         0     NaN      NaN   \n",
       "1         2     NaN      NaN   \n",
       "2         3     NaN      NaN   \n",
       "3         9     NaN      NaN   \n",
       "4        11     NaN      NaN   \n",
       "...     ...     ...      ...   \n",
       "3258  10861     NaN      NaN   \n",
       "3259  10865     NaN      NaN   \n",
       "3260  10868     NaN      NaN   \n",
       "3261  10874     NaN      NaN   \n",
       "3262  10875     NaN      NaN   \n",
       "\n",
       "                                                   text  \\\n",
       "0                    Just happened a terrible car crash   \n",
       "1     Heard about #earthquake is different cities, s...   \n",
       "2     there is a forest fire at spot pond, geese are...   \n",
       "3              Apocalypse lighting. #Spokane #wildfires   \n",
       "4         Typhoon Soudelor kills 28 in China and Taiwan   \n",
       "...                                                 ...   \n",
       "3258  EARTHQUAKE SAFETY LOS ANGELES ÛÒ SAFETY FASTE...   \n",
       "3259  Storm in RI worse than last hurricane. My city...   \n",
       "3260  Green Line derailment in Chicago http://t.co/U...   \n",
       "3261  MEG issues Hazardous Weather Outlook (HWO) htt...   \n",
       "3262  #CityofCalgary has activated its Municipal Eme...   \n",
       "\n",
       "                                             clean_text  \n",
       "0                      just happened terrible car crash  \n",
       "1     heard earthquake different cities  stay safe e...  \n",
       "2     forest fire spot pond  geese fleeing across st...  \n",
       "3                apocalypse lighting  spokane wildfires  \n",
       "4                typhoon soudelor kills 28 china taiwan  \n",
       "...                                                 ...  \n",
       "3258  earthquake safety los angeles ûò safety faste...  \n",
       "3259  storm ri worse last hurricane  city3others har...  \n",
       "3260  green line derailment chicago http   t  co  ut...  \n",
       "3261  meg issues hazardous weather outlook hwo http ...  \n",
       "3262  cityofcalgary activated municipal emergency pl...  \n",
       "\n",
       "[3263 rows x 5 columns]"
      ]
     },
     "execution_count": 111,
     "metadata": {},
     "output_type": "execute_result"
    }
   ],
   "source": [
    "# we aslo do the same operation on the test data\n",
    "test_df['clean_text'] = test_df['text'].apply(clean_text)\n",
    "test_df"
   ]
  },
  {
   "cell_type": "code",
   "execution_count": 134,
   "id": "4455262b-1865-45fe-8dcf-0a686d0d40e1",
   "metadata": {},
   "outputs": [
    {
     "data": {
      "text/plain": [
       "<AxesSubplot:>"
      ]
     },
     "execution_count": 134,
     "metadata": {},
     "output_type": "execute_result"
    },
    {
     "data": {
      "image/png": "[encoded data removed]",
      "text/plain": [
       "<Figure size 432x288 with 1 Axes>"
      ]
     },
     "metadata": {
      "needs_background": "light"
     },
     "output_type": "display_data"
    }
   ],
   "source": [
    "train_df['clean_text'].apply(lambda text:len(text)).hist()\n"
   ]
  },
  {
   "cell_type": "markdown",
   "id": "d05853cb-d9f5-4bd2-b350-e898e19d6b3d",
   "metadata": {},
   "source": [
    "We convert the text to number index,then the learninhistmodel can deal with numbers"
   ]
  },
  {
   "cell_type": "code",
   "execution_count": 149,
   "id": "2082706d-bba5-486b-ac4d-5fa8e96e4d3a",
   "metadata": {},
   "outputs": [
    {
     "data": {
      "text/plain": [
       "array([[4415,  735,  164, ...,    0,    0,    0],\n",
       "       [ 110,   10,  142, ...,    0,    0,    0],\n",
       "       [1598, 1473, 1787, ...,    0,    0,    0],\n",
       "       ...,\n",
       "       [2638, 2244, 4407, ...,    0,    0,    0],\n",
       "       [  24, 1013,  524, ...,    0,    0,    0],\n",
       "       [ 127,  122,  453, ...,    0,    0,    0]], dtype=int32)"
      ]
     },
     "execution_count": 149,
     "metadata": {},
     "output_type": "execute_result"
    }
   ],
   "source": [
    "# we need to toknenize the text\n",
    "\n",
    "max_length = 90\n",
    "vac_size = 10000\n",
    "tokenizer = Tokenizer(num_words=vac_size)\n",
    "tokenizer.fit_on_texts(train_df['clean_text'])\n",
    "train_sequences = tokenizer.texts_to_sequences(train_df['clean_text'])\n",
    "train_sequences_padded = pad_sequences(train_sequences, padding='post',maxlen=max_length)\n",
    "# convert to numpy\n",
    "train_sequence_padded = np.array(train_sequence_padded)\n",
    "train_sequence_padded"
   ]
  },
  {
   "cell_type": "code",
   "execution_count": 251,
   "id": "5dab810a-209b-4813-8621-550add431ac9",
   "metadata": {},
   "outputs": [
    {
     "data": {
      "text/plain": [
       "array([[   6,  783, 1807, ...,    0,    0,    0],\n",
       "       [ 371,  164, 1065, ...,    0,    0,    0],\n",
       "       [ 110,   10,  693, ...,    0,    0,    0],\n",
       "       ...,\n",
       "       [ 837,  570,  256, ...,    0,    0,    0],\n",
       "       [6138,  485,  337, ...,    0,    0,    0],\n",
       "       [5814, 2648, 1462, ...,    0,    0,    0]], dtype=int32)"
      ]
     },
     "execution_count": 251,
     "metadata": {},
     "output_type": "execute_result"
    }
   ],
   "source": [
    "# transform the test data into padded token\n",
    "test_sequences = tokenizer.texts_to_sequences(test_df['clean_text'])\n",
    "test_sequences_padded = pad_sequences(test_sequences,padding='post',maxlen=max_length)\n",
    "# convert test data to numpy\n",
    "x_test = np.array(test_sequences_padded)\n",
    "x_test"
   ]
  },
  {
   "cell_type": "markdown",
   "id": "121a71ab-8f5f-4719-9140-4d3aec429958",
   "metadata": {},
   "source": [
    "Split the training data into train and validation set"
   ]
  },
  {
   "cell_type": "code",
   "execution_count": 177,
   "id": "eb1f4efb-b7ba-4c9e-be3e-b838555ec496",
   "metadata": {},
   "outputs": [
    {
     "data": {
      "text/plain": [
       "array([1, 1, 1, ..., 1, 1, 1])"
      ]
     },
     "execution_count": 177,
     "metadata": {},
     "output_type": "execute_result"
    }
   ],
   "source": [
    "# convert target to numpy \n",
    "train_target = train_df['target'].to_numpy()\n",
    "train_target"
   ]
  },
  {
   "cell_type": "code",
   "execution_count": 192,
   "id": "6fe8ee38-4db5-437b-baaa-7d8fc5f23bc9",
   "metadata": {},
   "outputs": [],
   "source": [
    "\n",
    "#X_train, X_test, y_train, y_test\n",
    "x_train,x_val,y_train,y_val = train_test_split(train_sequences_padded,train_target,\n",
    "                                               test_size=0.2,random_state=18)"
   ]
  },
  {
   "cell_type": "code",
   "execution_count": 193,
   "id": "a59e72a4-eb0b-493b-90d9-9ed1bb79213e",
   "metadata": {},
   "outputs": [
    {
     "name": "stdout",
     "output_type": "stream",
     "text": [
      "(6090, 90)\n",
      "(6090,)\n",
      "(1523, 90)\n",
      "(1523,)\n"
     ]
    }
   ],
   "source": [
    "print(x_train.shape)\n",
    "print(y_train.shape)\n",
    "print(x_val.shape)\n",
    "print(y_val.shape)"
   ]
  },
  {
   "cell_type": "markdown",
   "id": "c2fc1bed-941e-4a7d-92a3-19f4a8dc0eb5",
   "metadata": {},
   "source": [
    "We will use embedding to the model, which is a vector representation of a word that the model learned. In the tensorflow embeding is as a layer to the model, So it is very easy to use."
   ]
  },
  {
   "cell_type": "markdown",
   "id": "69cc3727-26e6-4403-ab44-bde71d93b42c",
   "metadata": {},
   "source": [
    "### 3. Building the model\n",
    "\n",
    "Consider this model architeture"
   ]
  },
  {
   "cell_type": "code",
   "execution_count": 220,
   "id": "fe0b3ce1-06fb-4d69-9d64-d50635c40643",
   "metadata": {},
   "outputs": [
    {
     "name": "stdout",
     "output_type": "stream",
     "text": [
      "Model: \"sequential_6\"\n",
      "_________________________________________________________________\n",
      " Layer (type)                Output Shape              Param #   \n",
      "=================================================================\n",
      " embedding_6 (Embedding)     (None, None, 32)          320000    \n",
      "                                                                 \n",
      " global_average_pooling1d_6   (None, 32)               0         \n",
      " (GlobalAveragePooling1D)                                        \n",
      "                                                                 \n",
      " dense_13 (Dense)            (None, 32)                1056      \n",
      "                                                                 \n",
      " dense_14 (Dense)            (None, 1)                 33        \n",
      "                                                                 \n",
      "=================================================================\n",
      "Total params: 321,089\n",
      "Trainable params: 321,089\n",
      "Non-trainable params: 0\n",
      "_________________________________________________________________\n"
     ]
    }
   ],
   "source": [
    "model = Sequential([Embedding(vac_size,32),\n",
    "                    GlobalAveragePooling1D(),\n",
    "                    Dense(32,activation='relu'),\n",
    "                    Dense(1,activation='sigmoid')])\n",
    "model.summary()"
   ]
  },
  {
   "cell_type": "markdown",
   "id": "16b3c22f-fd3a-480b-94ec-06344b5fe339",
   "metadata": {},
   "source": [
    "Here we defined a embeding layer with vacab size 10000 an embeding dimension of 16."
   ]
  },
  {
   "cell_type": "code",
   "execution_count": 221,
   "id": "cf2e98af-0a2f-4907-a99b-d1489faa9d54",
   "metadata": {},
   "outputs": [],
   "source": [
    "model.compile(loss='binary_crossentropy',optimizer=Adam(0.001),metrics=['accuracy',AUC()])"
   ]
  },
  {
   "cell_type": "code",
   "execution_count": 222,
   "id": "ab2ed4b7-706e-476b-86d4-d053a625abe8",
   "metadata": {},
   "outputs": [
    {
     "name": "stdout",
     "output_type": "stream",
     "text": [
      "Epoch 1/10\n",
      "96/96 [==============================] - 2s 8ms/step - loss: 0.6854 - accuracy: 0.5632 - auc_3: 0.5142 - val_loss: 0.6798 - val_accuracy: 0.5712 - val_auc_3: 0.7124\n",
      "Epoch 2/10\n",
      "96/96 [==============================] - 1s 6ms/step - loss: 0.6770 - accuracy: 0.5701 - auc_3: 0.7221 - val_loss: 0.6737 - val_accuracy: 0.5712 - val_auc_3: 0.7537\n",
      "Epoch 3/10\n",
      "96/96 [==============================] - 1s 6ms/step - loss: 0.6638 - accuracy: 0.5716 - auc_3: 0.7781 - val_loss: 0.6537 - val_accuracy: 0.5804 - val_auc_3: 0.7712\n",
      "Epoch 4/10\n",
      "96/96 [==============================] - 1s 6ms/step - loss: 0.6210 - accuracy: 0.6609 - auc_3: 0.8006 - val_loss: 0.6063 - val_accuracy: 0.7282 - val_auc_3: 0.7834\n",
      "Epoch 5/10\n",
      "96/96 [==============================] - 1s 8ms/step - loss: 0.5391 - accuracy: 0.7672 - auc_3: 0.8474 - val_loss: 0.5454 - val_accuracy: 0.7498 - val_auc_3: 0.8074\n",
      "Epoch 6/10\n",
      "96/96 [==============================] - 1s 8ms/step - loss: 0.4505 - accuracy: 0.8140 - auc_3: 0.8878 - val_loss: 0.4966 - val_accuracy: 0.7722 - val_auc_3: 0.8334\n",
      "Epoch 7/10\n",
      "96/96 [==============================] - 1s 7ms/step - loss: 0.3788 - accuracy: 0.8512 - auc_3: 0.9233 - val_loss: 0.4638 - val_accuracy: 0.7965 - val_auc_3: 0.8470\n",
      "Epoch 8/10\n",
      "96/96 [==============================] - 1s 8ms/step - loss: 0.3302 - accuracy: 0.8737 - auc_3: 0.9410 - val_loss: 0.4543 - val_accuracy: 0.7984 - val_auc_3: 0.8514\n",
      "Epoch 9/10\n",
      "96/96 [==============================] - 1s 6ms/step - loss: 0.2937 - accuracy: 0.8885 - auc_3: 0.9529 - val_loss: 0.4550 - val_accuracy: 0.7984 - val_auc_3: 0.8524\n",
      "Epoch 10/10\n",
      "96/96 [==============================] - 1s 6ms/step - loss: 0.2667 - accuracy: 0.8993 - auc_3: 0.9606 - val_loss: 0.4683 - val_accuracy: 0.7886 - val_auc_3: 0.8517\n"
     ]
    }
   ],
   "source": [
    "history = model.fit(x_train,y_train,\n",
    "                    validation_data=(x_val,y_val),\n",
    "                    batch_size=64,epochs=10)"
   ]
  },
  {
   "cell_type": "code",
   "execution_count": 225,
   "id": "0f78ce98-11db-425f-80fd-76a6e8278874",
   "metadata": {},
   "outputs": [
    {
     "data": {
      "image/png": "[encoded data removed]",
      "text/plain": [
       "<Figure size 432x288 with 1 Axes>"
      ]
     },
     "metadata": {
      "needs_background": "light"
     },
     "output_type": "display_data"
    },
    {
     "data": {
      "image/png": "[encoded data removed]",
      "text/plain": [
       "<Figure size 432x288 with 1 Axes>"
      ]
     },
     "metadata": {
      "needs_background": "light"
     },
     "output_type": "display_data"
    }
   ],
   "source": [
    "# plot loss \n",
    "plt.plot(history.history['loss'])\n",
    "plt.plot(history.history['val_loss'])\n",
    "plt.title('Loss per epoch')\n",
    "plt.ylabel('loss')\n",
    "plt.xlabel('epoch')\n",
    "plt.legend(['train', 'validate'], loc='upper right')\n",
    "plt.show()\n",
    "\n",
    "# plot accuracy\n",
    "\n",
    "plt.plot(history.history['accuracy'])\n",
    "plt.plot(history.history['val_accuracy'])\n",
    "plt.title('Loss accuracy epoch')\n",
    "plt.ylabel('accuracy')\n",
    "plt.xlabel('epoch')\n",
    "plt.legend(['train', 'validate'], loc='upper left')\n",
    "plt.show()\n"
   ]
  },
  {
   "cell_type": "code",
   "execution_count": 224,
   "id": "ee3971b4-4a85-4b5d-b45e-484be0dc3038",
   "metadata": {},
   "outputs": [
    {
     "name": "stdout",
     "output_type": "stream",
     "text": [
      "48/48 [==============================] - 0s 2ms/step - loss: 0.4683 - accuracy: 0.7886 - auc_3: 0.8517\n"
     ]
    },
    {
     "data": {
      "text/plain": [
       "[0.4682818353176117, 0.7885751724243164, 0.8516827821731567]"
      ]
     },
     "execution_count": 224,
     "metadata": {},
     "output_type": "execute_result"
    }
   ],
   "source": [
    "model.evaluate(x_val,y_val)"
   ]
  },
  {
   "cell_type": "markdown",
   "id": "fc441351-a857-45a5-a768-9ee56ac4108d",
   "metadata": {},
   "source": [
    "As we can see the plot above the model is overfitting. We adjust the learning and use dropout to tune the model."
   ]
  },
  {
   "cell_type": "markdown",
   "id": "f00026c9-15f9-4475-afd6-e296e8b44052",
   "metadata": {},
   "source": [
    "Tune the model"
   ]
  },
  {
   "cell_type": "code",
   "execution_count": 275,
   "id": "ce9e458b-5e5f-4e3a-8a24-4aecab13591a",
   "metadata": {},
   "outputs": [],
   "source": [
    "# Adusting the learning rate and using dropout\n",
    "model = Sequential([Embedding(vac_size,32),\n",
    "                    GlobalAveragePooling1D(),\n",
    "                    Dense(32,activation='relu'),\n",
    "                    Dropout(0.5),\n",
    "                    Dense(1,activation='sigmoid')])\n",
    "model.compile(loss='binary_crossentropy',optimizer=Adam(0.0008),metrics=['accuracy',AUC()])"
   ]
  },
  {
   "cell_type": "code",
   "execution_count": 276,
   "id": "b5d26352-31f9-4490-baaa-c2cd93fde402",
   "metadata": {},
   "outputs": [
    {
     "name": "stdout",
     "output_type": "stream",
     "text": [
      "Epoch 1/12\n",
      "96/96 [==============================] - 2s 8ms/step - loss: 0.6856 - accuracy: 0.5644 - auc_15: 0.5089 - val_loss: 0.6806 - val_accuracy: 0.5712 - val_auc_15: 0.6954\n",
      "Epoch 2/12\n",
      "96/96 [==============================] - 1s 8ms/step - loss: 0.6801 - accuracy: 0.5701 - auc_15: 0.5497 - val_loss: 0.6765 - val_accuracy: 0.5712 - val_auc_15: 0.7441\n",
      "Epoch 3/12\n",
      "96/96 [==============================] - 1s 8ms/step - loss: 0.6721 - accuracy: 0.5701 - auc_15: 0.6369 - val_loss: 0.6660 - val_accuracy: 0.5712 - val_auc_15: 0.7671\n",
      "Epoch 4/12\n",
      "96/96 [==============================] - 1s 7ms/step - loss: 0.6503 - accuracy: 0.6186 - auc_15: 0.7368 - val_loss: 0.6354 - val_accuracy: 0.6632 - val_auc_15: 0.7781\n",
      "Epoch 5/12\n",
      "96/96 [==============================] - 1s 6ms/step - loss: 0.6002 - accuracy: 0.7197 - auc_15: 0.7935 - val_loss: 0.5874 - val_accuracy: 0.7334 - val_auc_15: 0.7948\n",
      "Epoch 6/12\n",
      "96/96 [==============================] - 1s 7ms/step - loss: 0.5343 - accuracy: 0.7718 - auc_15: 0.8373 - val_loss: 0.5456 - val_accuracy: 0.7577 - val_auc_15: 0.8156\n",
      "Epoch 7/12\n",
      "96/96 [==============================] - 1s 6ms/step - loss: 0.4788 - accuracy: 0.8048 - auc_15: 0.8689 - val_loss: 0.5046 - val_accuracy: 0.7794 - val_auc_15: 0.8345\n",
      "Epoch 8/12\n",
      "96/96 [==============================] - 1s 6ms/step - loss: 0.4263 - accuracy: 0.8343 - auc_15: 0.8987 - val_loss: 0.4781 - val_accuracy: 0.7912 - val_auc_15: 0.8466\n",
      "Epoch 9/12\n",
      "96/96 [==============================] - 1s 6ms/step - loss: 0.3825 - accuracy: 0.8565 - auc_15: 0.9202 - val_loss: 0.4628 - val_accuracy: 0.7932 - val_auc_15: 0.8510\n",
      "Epoch 10/12\n",
      "96/96 [==============================] - 1s 6ms/step - loss: 0.3519 - accuracy: 0.8701 - auc_15: 0.9321 - val_loss: 0.4553 - val_accuracy: 0.7945 - val_auc_15: 0.8520\n",
      "Epoch 11/12\n",
      "96/96 [==============================] - 1s 7ms/step - loss: 0.3260 - accuracy: 0.8791 - auc_15: 0.9390 - val_loss: 0.4541 - val_accuracy: 0.7984 - val_auc_15: 0.8523\n",
      "Epoch 12/12\n",
      "96/96 [==============================] - 1s 8ms/step - loss: 0.3040 - accuracy: 0.8885 - auc_15: 0.9470 - val_loss: 0.4563 - val_accuracy: 0.7958 - val_auc_15: 0.8520\n"
     ]
    }
   ],
   "source": [
    "history = model.fit(x_train,y_train,\n",
    "                    validation_data=(x_val,y_val),\n",
    "                    batch_size=64,epochs=12)"
   ]
  },
  {
   "cell_type": "code",
   "execution_count": 277,
   "id": "fd54c46e-3085-4036-9ff8-65f5bcad0dbf",
   "metadata": {},
   "outputs": [
    {
     "data": {
      "image/png": "[encoded data removed]",
      "text/plain": [
       "<Figure size 432x288 with 1 Axes>"
      ]
     },
     "metadata": {
      "needs_background": "light"
     },
     "output_type": "display_data"
    }
   ],
   "source": [
    "# plot loss \n",
    "plt.plot(history.history['loss'])\n",
    "plt.plot(history.history['val_loss'])\n",
    "plt.title('Loss per epoch')\n",
    "plt.ylabel('loss')\n",
    "plt.xlabel('epoch')\n",
    "plt.legend(['train', 'validate'], loc='upper right')\n",
    "plt.show()"
   ]
  },
  {
   "cell_type": "code",
   "execution_count": 278,
   "id": "4ae8c1ef-80d1-48ed-9614-90f1bd9df532",
   "metadata": {},
   "outputs": [
    {
     "name": "stdout",
     "output_type": "stream",
     "text": [
      "48/48 [==============================] - 0s 2ms/step - loss: 0.4563 - accuracy: 0.7958 - auc_15: 0.8520\n"
     ]
    },
    {
     "data": {
      "text/plain": [
       "[0.4562724530696869, 0.7957977652549744, 0.8519511818885803]"
      ]
     },
     "execution_count": 278,
     "metadata": {},
     "output_type": "execute_result"
    }
   ],
   "source": [
    "model.evaluate(x_val,y_val)"
   ]
  },
  {
   "cell_type": "markdown",
   "id": "98ab9dee-8c92-4561-8981-5db3f886254f",
   "metadata": {},
   "source": [
    "Predict the on test data"
   ]
  },
  {
   "cell_type": "code",
   "execution_count": 279,
   "id": "63d6f2af-aa85-484e-8cd4-b9403d8a83e1",
   "metadata": {},
   "outputs": [
    {
     "name": "stdout",
     "output_type": "stream",
     "text": [
      "102/102 [==============================] - 0s 2ms/step\n"
     ]
    }
   ],
   "source": [
    "y_pred = model.predict(x_test)"
   ]
  },
  {
   "cell_type": "code",
   "execution_count": 280,
   "id": "5f1a40ab-d6ff-4921-ab97-a2f00b90b792",
   "metadata": {},
   "outputs": [
    {
     "data": {
      "text/plain": [
       "array([[1],\n",
       "       [1],\n",
       "       [1],\n",
       "       ...,\n",
       "       [1],\n",
       "       [1],\n",
       "       [1]])"
      ]
     },
     "execution_count": 280,
     "metadata": {},
     "output_type": "execute_result"
    }
   ],
   "source": [
    "y_pred = np.where(y_pred>0.5,1,0)\n",
    "y_pred"
   ]
  },
  {
   "cell_type": "code",
   "execution_count": 281,
   "id": "c0fa4148-da01-46a2-b054-907806bd9262",
   "metadata": {},
   "outputs": [],
   "source": [
    "sample_submission = pd.read_csv(\"./sample_submission.csv\")"
   ]
  },
  {
   "cell_type": "code",
   "execution_count": 282,
   "id": "20a995b5-ab11-45aa-a633-2cb840a17a00",
   "metadata": {},
   "outputs": [],
   "source": [
    "sample_submission['target']=y_pred"
   ]
  },
  {
   "cell_type": "code",
   "execution_count": 283,
   "id": "f54555d9-d47a-497d-90c7-fe0ca34626f3",
   "metadata": {},
   "outputs": [
    {
     "data": {
      "text/html": [
       "<div>\n",
       "<style scoped>\n",
       "    .dataframe tbody tr th:only-of-type {\n",
       "        vertical-align: middle;\n",
       "    }\n",
       "\n",
       "    .dataframe tbody tr th {\n",
       "        vertical-align: top;\n",
       "    }\n",
       "\n",
       "    .dataframe thead th {\n",
       "        text-align: right;\n",
       "    }\n",
       "</style>\n",
       "<table border=\"1\" class=\"dataframe\">\n",
       "  <thead>\n",
       "    <tr style=\"text-align: right;\">\n",
       "      <th></th>\n",
       "      <th>id</th>\n",
       "      <th>target</th>\n",
       "    </tr>\n",
       "  </thead>\n",
       "  <tbody>\n",
       "    <tr>\n",
       "      <th>0</th>\n",
       "      <td>0</td>\n",
       "      <td>1</td>\n",
       "    </tr>\n",
       "    <tr>\n",
       "      <th>1</th>\n",
       "      <td>2</td>\n",
       "      <td>1</td>\n",
       "    </tr>\n",
       "    <tr>\n",
       "      <th>2</th>\n",
       "      <td>3</td>\n",
       "      <td>1</td>\n",
       "    </tr>\n",
       "    <tr>\n",
       "      <th>3</th>\n",
       "      <td>9</td>\n",
       "      <td>1</td>\n",
       "    </tr>\n",
       "    <tr>\n",
       "      <th>4</th>\n",
       "      <td>11</td>\n",
       "      <td>1</td>\n",
       "    </tr>\n",
       "    <tr>\n",
       "      <th>...</th>\n",
       "      <td>...</td>\n",
       "      <td>...</td>\n",
       "    </tr>\n",
       "    <tr>\n",
       "      <th>3258</th>\n",
       "      <td>10861</td>\n",
       "      <td>0</td>\n",
       "    </tr>\n",
       "    <tr>\n",
       "      <th>3259</th>\n",
       "      <td>10865</td>\n",
       "      <td>1</td>\n",
       "    </tr>\n",
       "    <tr>\n",
       "      <th>3260</th>\n",
       "      <td>10868</td>\n",
       "      <td>1</td>\n",
       "    </tr>\n",
       "    <tr>\n",
       "      <th>3261</th>\n",
       "      <td>10874</td>\n",
       "      <td>1</td>\n",
       "    </tr>\n",
       "    <tr>\n",
       "      <th>3262</th>\n",
       "      <td>10875</td>\n",
       "      <td>1</td>\n",
       "    </tr>\n",
       "  </tbody>\n",
       "</table>\n",
       "<p>3263 rows × 2 columns</p>\n",
       "</div>"
      ],
      "text/plain": [
       "         id  target\n",
       "0         0       1\n",
       "1         2       1\n",
       "2         3       1\n",
       "3         9       1\n",
       "4        11       1\n",
       "...     ...     ...\n",
       "3258  10861       0\n",
       "3259  10865       1\n",
       "3260  10868       1\n",
       "3261  10874       1\n",
       "3262  10875       1\n",
       "\n",
       "[3263 rows x 2 columns]"
      ]
     },
     "execution_count": 283,
     "metadata": {},
     "output_type": "execute_result"
    }
   ],
   "source": [
    "sample_submission"
   ]
  },
  {
   "cell_type": "code",
   "execution_count": 284,
   "id": "a2e9200d-2b32-4d3a-9758-334aaf719c8f",
   "metadata": {},
   "outputs": [],
   "source": [
    "sample_submission.to_csv(\"submission.csv\", index=False)"
   ]
  },
  {
   "cell_type": "markdown",
   "id": "75113b17-66ba-484c-b758-03957059f037",
   "metadata": {},
   "source": [
    "### 4. Results and analysis\n",
    "\n",
    "In this task we use neural network to train the model to predict whether a tweets announcing a disaster. First, we clean text and transform the text to number(token) then we can train it in the learning model. We also use the embeding in the model. We use the nerual network model to fit the data and we found the model is overfiting then we adust the learning rate and use dropout to model. Finaly we train the model and get accuracy about 80%.  \n",
    "\n",
    "We know there are some other techniques to fit a model more perfermance,like using regularization and tune the model architecture more complex to get more accuracy. We also only use the 'text' feature, did not use the other features like 'location' and 'keywords', which might be help improving the perfermance, if we use more information to the model in the training time the good model will make."
   ]
  },
  {
   "cell_type": "markdown",
   "id": "2db62883-b7bc-43de-909c-0949d0b935b1",
   "metadata": {},
   "source": [
    "### 5. Reference\n",
    "\n",
    "Book《AI and Machine Learning for Coders》"
   ]
  },
  {
   "cell_type": "code",
   "execution_count": null,
   "id": "45369e9d-e5dc-4dda-aadf-b2ac6291bc39",
   "metadata": {},
   "outputs": [],
   "source": []
  }
 ],
 "metadata": {
  "kernelspec": {
   "display_name": "Python 3 (ipykernel)",
   "language": "python",
   "name": "python3"
  },
  "language_info": {
   "codemirror_mode": {
    "name": "ipython",
    "version": 3
   },
   "file_extension": ".py",
   "mimetype": "text/x-python",
   "name": "python",
   "nbconvert_exporter": "python",
   "pygments_lexer": "ipython3",
   "version": "3.8.2"
  }
 },
 "nbformat": 4,
 "nbformat_minor": 5
}
